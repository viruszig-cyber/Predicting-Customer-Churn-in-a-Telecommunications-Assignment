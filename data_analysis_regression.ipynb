{
  "cells": [
    {
      "cell_type": "markdown",
      "metadata": {
        "id": "view-in-github",
        "colab_type": "text"
      },
      "source": [
        "<a href=\"https://colab.research.google.com/github/viruszig-cyber/Predicting-Customer-Churn-in-a-Telecommunications-Assignment/blob/main/data_analysis_regression.ipynb\" target=\"_parent\"><img src=\"https://colab.research.google.com/assets/colab-badge.svg\" alt=\"Open In Colab\"/></a>"
      ]
    },
    {
      "cell_type": "code",
      "execution_count": 73,
      "id": "c441a96b",
      "metadata": {
        "_cell_guid": "b1076dfc-b9ad-4769-8c92-a6c4dae69d19",
        "_uuid": "8f2839f25d086af736a60e9eeb907d3b93b6e0e5",
        "execution": {
          "iopub.execute_input": "2023-05-03T23:55:08.744166Z",
          "iopub.status.busy": "2023-05-03T23:55:08.742924Z",
          "iopub.status.idle": "2023-05-03T23:55:08.760598Z",
          "shell.execute_reply": "2023-05-03T23:55:08.759473Z"
        },
        "papermill": {
          "duration": 0.028697,
          "end_time": "2023-05-03T23:55:08.762898",
          "exception": false,
          "start_time": "2023-05-03T23:55:08.734201",
          "status": "completed"
        },
        "tags": [],
        "id": "c441a96b"
      },
      "outputs": [],
      "source": [
        "\n",
        "import numpy as np # linear algebra\n",
        "import pandas as pd # data processing, CSV file I/O (e.g. pd.read_csv)\n"
      ]
    },
    {
      "cell_type": "code",
      "execution_count": 74,
      "id": "01ee3f24",
      "metadata": {
        "execution": {
          "iopub.execute_input": "2023-05-03T23:55:08.778490Z",
          "iopub.status.busy": "2023-05-03T23:55:08.777792Z",
          "iopub.status.idle": "2023-05-03T23:55:10.097002Z",
          "shell.execute_reply": "2023-05-03T23:55:10.096078Z"
        },
        "papermill": {
          "duration": 1.329878,
          "end_time": "2023-05-03T23:55:10.099461",
          "exception": false,
          "start_time": "2023-05-03T23:55:08.769583",
          "status": "completed"
        },
        "tags": [],
        "id": "01ee3f24"
      },
      "outputs": [],
      "source": [
        "import pandas as pd\n",
        "import numpy as np\n",
        "import seaborn as sns\n",
        "import matplotlib.pyplot as plt\n",
        "# %matplotlib inline"
      ]
    },
    {
      "cell_type": "code",
      "execution_count": 75,
      "id": "3b417353",
      "metadata": {
        "execution": {
          "iopub.execute_input": "2023-05-03T23:55:10.115567Z",
          "iopub.status.busy": "2023-05-03T23:55:10.114680Z",
          "iopub.status.idle": "2023-05-03T23:55:10.393351Z",
          "shell.execute_reply": "2023-05-03T23:55:10.392264Z"
        },
        "papermill": {
          "duration": 0.289533,
          "end_time": "2023-05-03T23:55:10.396140",
          "exception": false,
          "start_time": "2023-05-03T23:55:10.106607",
          "status": "completed"
        },
        "tags": [],
        "colab": {
          "base_uri": "https://localhost:8080/",
          "height": 206
        },
        "id": "3b417353",
        "outputId": "6dee6002-ccd2-4e8f-ce49-33daaad2c7c9"
      },
      "outputs": [
        {
          "output_type": "execute_result",
          "data": {
            "text/plain": [
              "     status  bed  bath  acre_lot        city        state  zip_code  \\\n",
              "0  for_sale  3.0   2.0      0.12    Adjuntas  Puerto Rico     601.0   \n",
              "1  for_sale  4.0   2.0      0.08    Adjuntas  Puerto Rico     601.0   \n",
              "2  for_sale  2.0   1.0      0.15  Juana Diaz  Puerto Rico     795.0   \n",
              "3  for_sale  4.0   2.0      0.10       Ponce  Puerto Rico     731.0   \n",
              "4  for_sale  6.0   2.0      0.05    Mayaguez  Puerto Rico     680.0   \n",
              "\n",
              "   house_size prev_sold_date     price  \n",
              "0       920.0            NaN  105000.0  \n",
              "1      1527.0            NaN   80000.0  \n",
              "2       748.0            NaN   67000.0  \n",
              "3      1800.0            NaN  145000.0  \n",
              "4         NaN            NaN   65000.0  "
            ],
            "text/html": [
              "\n",
              "  <div id=\"df-f5dd9ee6-07e8-4541-8871-9fe511b89576\" class=\"colab-df-container\">\n",
              "    <div>\n",
              "<style scoped>\n",
              "    .dataframe tbody tr th:only-of-type {\n",
              "        vertical-align: middle;\n",
              "    }\n",
              "\n",
              "    .dataframe tbody tr th {\n",
              "        vertical-align: top;\n",
              "    }\n",
              "\n",
              "    .dataframe thead th {\n",
              "        text-align: right;\n",
              "    }\n",
              "</style>\n",
              "<table border=\"1\" class=\"dataframe\">\n",
              "  <thead>\n",
              "    <tr style=\"text-align: right;\">\n",
              "      <th></th>\n",
              "      <th>status</th>\n",
              "      <th>bed</th>\n",
              "      <th>bath</th>\n",
              "      <th>acre_lot</th>\n",
              "      <th>city</th>\n",
              "      <th>state</th>\n",
              "      <th>zip_code</th>\n",
              "      <th>house_size</th>\n",
              "      <th>prev_sold_date</th>\n",
              "      <th>price</th>\n",
              "    </tr>\n",
              "  </thead>\n",
              "  <tbody>\n",
              "    <tr>\n",
              "      <th>0</th>\n",
              "      <td>for_sale</td>\n",
              "      <td>3.0</td>\n",
              "      <td>2.0</td>\n",
              "      <td>0.12</td>\n",
              "      <td>Adjuntas</td>\n",
              "      <td>Puerto Rico</td>\n",
              "      <td>601.0</td>\n",
              "      <td>920.0</td>\n",
              "      <td>NaN</td>\n",
              "      <td>105000.0</td>\n",
              "    </tr>\n",
              "    <tr>\n",
              "      <th>1</th>\n",
              "      <td>for_sale</td>\n",
              "      <td>4.0</td>\n",
              "      <td>2.0</td>\n",
              "      <td>0.08</td>\n",
              "      <td>Adjuntas</td>\n",
              "      <td>Puerto Rico</td>\n",
              "      <td>601.0</td>\n",
              "      <td>1527.0</td>\n",
              "      <td>NaN</td>\n",
              "      <td>80000.0</td>\n",
              "    </tr>\n",
              "    <tr>\n",
              "      <th>2</th>\n",
              "      <td>for_sale</td>\n",
              "      <td>2.0</td>\n",
              "      <td>1.0</td>\n",
              "      <td>0.15</td>\n",
              "      <td>Juana Diaz</td>\n",
              "      <td>Puerto Rico</td>\n",
              "      <td>795.0</td>\n",
              "      <td>748.0</td>\n",
              "      <td>NaN</td>\n",
              "      <td>67000.0</td>\n",
              "    </tr>\n",
              "    <tr>\n",
              "      <th>3</th>\n",
              "      <td>for_sale</td>\n",
              "      <td>4.0</td>\n",
              "      <td>2.0</td>\n",
              "      <td>0.10</td>\n",
              "      <td>Ponce</td>\n",
              "      <td>Puerto Rico</td>\n",
              "      <td>731.0</td>\n",
              "      <td>1800.0</td>\n",
              "      <td>NaN</td>\n",
              "      <td>145000.0</td>\n",
              "    </tr>\n",
              "    <tr>\n",
              "      <th>4</th>\n",
              "      <td>for_sale</td>\n",
              "      <td>6.0</td>\n",
              "      <td>2.0</td>\n",
              "      <td>0.05</td>\n",
              "      <td>Mayaguez</td>\n",
              "      <td>Puerto Rico</td>\n",
              "      <td>680.0</td>\n",
              "      <td>NaN</td>\n",
              "      <td>NaN</td>\n",
              "      <td>65000.0</td>\n",
              "    </tr>\n",
              "  </tbody>\n",
              "</table>\n",
              "</div>\n",
              "    <div class=\"colab-df-buttons\">\n",
              "\n",
              "  <div class=\"colab-df-container\">\n",
              "    <button class=\"colab-df-convert\" onclick=\"convertToInteractive('df-f5dd9ee6-07e8-4541-8871-9fe511b89576')\"\n",
              "            title=\"Convert this dataframe to an interactive table.\"\n",
              "            style=\"display:none;\">\n",
              "\n",
              "  <svg xmlns=\"http://www.w3.org/2000/svg\" height=\"24px\" viewBox=\"0 -960 960 960\">\n",
              "    <path d=\"M120-120v-720h720v720H120Zm60-500h600v-160H180v160Zm220 220h160v-160H400v160Zm0 220h160v-160H400v160ZM180-400h160v-160H180v160Zm440 0h160v-160H620v160ZM180-180h160v-160H180v160Zm440 0h160v-160H620v160Z\"/>\n",
              "  </svg>\n",
              "    </button>\n",
              "\n",
              "  <style>\n",
              "    .colab-df-container {\n",
              "      display:flex;\n",
              "      gap: 12px;\n",
              "    }\n",
              "\n",
              "    .colab-df-convert {\n",
              "      background-color: #E8F0FE;\n",
              "      border: none;\n",
              "      border-radius: 50%;\n",
              "      cursor: pointer;\n",
              "      display: none;\n",
              "      fill: #1967D2;\n",
              "      height: 32px;\n",
              "      padding: 0 0 0 0;\n",
              "      width: 32px;\n",
              "    }\n",
              "\n",
              "    .colab-df-convert:hover {\n",
              "      background-color: #E2EBFA;\n",
              "      box-shadow: 0px 1px 2px rgba(60, 64, 67, 0.3), 0px 1px 3px 1px rgba(60, 64, 67, 0.15);\n",
              "      fill: #174EA6;\n",
              "    }\n",
              "\n",
              "    .colab-df-buttons div {\n",
              "      margin-bottom: 4px;\n",
              "    }\n",
              "\n",
              "    [theme=dark] .colab-df-convert {\n",
              "      background-color: #3B4455;\n",
              "      fill: #D2E3FC;\n",
              "    }\n",
              "\n",
              "    [theme=dark] .colab-df-convert:hover {\n",
              "      background-color: #434B5C;\n",
              "      box-shadow: 0px 1px 3px 1px rgba(0, 0, 0, 0.15);\n",
              "      filter: drop-shadow(0px 1px 2px rgba(0, 0, 0, 0.3));\n",
              "      fill: #FFFFFF;\n",
              "    }\n",
              "  </style>\n",
              "\n",
              "    <script>\n",
              "      const buttonEl =\n",
              "        document.querySelector('#df-f5dd9ee6-07e8-4541-8871-9fe511b89576 button.colab-df-convert');\n",
              "      buttonEl.style.display =\n",
              "        google.colab.kernel.accessAllowed ? 'block' : 'none';\n",
              "\n",
              "      async function convertToInteractive(key) {\n",
              "        const element = document.querySelector('#df-f5dd9ee6-07e8-4541-8871-9fe511b89576');\n",
              "        const dataTable =\n",
              "          await google.colab.kernel.invokeFunction('convertToInteractive',\n",
              "                                                    [key], {});\n",
              "        if (!dataTable) return;\n",
              "\n",
              "        const docLinkHtml = 'Like what you see? Visit the ' +\n",
              "          '<a target=\"_blank\" href=https://colab.research.google.com/notebooks/data_table.ipynb>data table notebook</a>'\n",
              "          + ' to learn more about interactive tables.';\n",
              "        element.innerHTML = '';\n",
              "        dataTable['output_type'] = 'display_data';\n",
              "        await google.colab.output.renderOutput(dataTable, element);\n",
              "        const docLink = document.createElement('div');\n",
              "        docLink.innerHTML = docLinkHtml;\n",
              "        element.appendChild(docLink);\n",
              "      }\n",
              "    </script>\n",
              "  </div>\n",
              "\n",
              "\n",
              "<div id=\"df-844dcc10-77cd-4d7f-9d13-9652ee6157a6\">\n",
              "  <button class=\"colab-df-quickchart\" onclick=\"quickchart('df-844dcc10-77cd-4d7f-9d13-9652ee6157a6')\"\n",
              "            title=\"Suggest charts\"\n",
              "            style=\"display:none;\">\n",
              "\n",
              "<svg xmlns=\"http://www.w3.org/2000/svg\" height=\"24px\"viewBox=\"0 0 24 24\"\n",
              "     width=\"24px\">\n",
              "    <g>\n",
              "        <path d=\"M19 3H5c-1.1 0-2 .9-2 2v14c0 1.1.9 2 2 2h14c1.1 0 2-.9 2-2V5c0-1.1-.9-2-2-2zM9 17H7v-7h2v7zm4 0h-2V7h2v10zm4 0h-2v-4h2v4z\"/>\n",
              "    </g>\n",
              "</svg>\n",
              "  </button>\n",
              "\n",
              "<style>\n",
              "  .colab-df-quickchart {\n",
              "      --bg-color: #E8F0FE;\n",
              "      --fill-color: #1967D2;\n",
              "      --hover-bg-color: #E2EBFA;\n",
              "      --hover-fill-color: #174EA6;\n",
              "      --disabled-fill-color: #AAA;\n",
              "      --disabled-bg-color: #DDD;\n",
              "  }\n",
              "\n",
              "  [theme=dark] .colab-df-quickchart {\n",
              "      --bg-color: #3B4455;\n",
              "      --fill-color: #D2E3FC;\n",
              "      --hover-bg-color: #434B5C;\n",
              "      --hover-fill-color: #FFFFFF;\n",
              "      --disabled-bg-color: #3B4455;\n",
              "      --disabled-fill-color: #666;\n",
              "  }\n",
              "\n",
              "  .colab-df-quickchart {\n",
              "    background-color: var(--bg-color);\n",
              "    border: none;\n",
              "    border-radius: 50%;\n",
              "    cursor: pointer;\n",
              "    display: none;\n",
              "    fill: var(--fill-color);\n",
              "    height: 32px;\n",
              "    padding: 0;\n",
              "    width: 32px;\n",
              "  }\n",
              "\n",
              "  .colab-df-quickchart:hover {\n",
              "    background-color: var(--hover-bg-color);\n",
              "    box-shadow: 0 1px 2px rgba(60, 64, 67, 0.3), 0 1px 3px 1px rgba(60, 64, 67, 0.15);\n",
              "    fill: var(--button-hover-fill-color);\n",
              "  }\n",
              "\n",
              "  .colab-df-quickchart-complete:disabled,\n",
              "  .colab-df-quickchart-complete:disabled:hover {\n",
              "    background-color: var(--disabled-bg-color);\n",
              "    fill: var(--disabled-fill-color);\n",
              "    box-shadow: none;\n",
              "  }\n",
              "\n",
              "  .colab-df-spinner {\n",
              "    border: 2px solid var(--fill-color);\n",
              "    border-color: transparent;\n",
              "    border-bottom-color: var(--fill-color);\n",
              "    animation:\n",
              "      spin 1s steps(1) infinite;\n",
              "  }\n",
              "\n",
              "  @keyframes spin {\n",
              "    0% {\n",
              "      border-color: transparent;\n",
              "      border-bottom-color: var(--fill-color);\n",
              "      border-left-color: var(--fill-color);\n",
              "    }\n",
              "    20% {\n",
              "      border-color: transparent;\n",
              "      border-left-color: var(--fill-color);\n",
              "      border-top-color: var(--fill-color);\n",
              "    }\n",
              "    30% {\n",
              "      border-color: transparent;\n",
              "      border-left-color: var(--fill-color);\n",
              "      border-top-color: var(--fill-color);\n",
              "      border-right-color: var(--fill-color);\n",
              "    }\n",
              "    40% {\n",
              "      border-color: transparent;\n",
              "      border-right-color: var(--fill-color);\n",
              "      border-top-color: var(--fill-color);\n",
              "    }\n",
              "    60% {\n",
              "      border-color: transparent;\n",
              "      border-right-color: var(--fill-color);\n",
              "    }\n",
              "    80% {\n",
              "      border-color: transparent;\n",
              "      border-right-color: var(--fill-color);\n",
              "      border-bottom-color: var(--fill-color);\n",
              "    }\n",
              "    90% {\n",
              "      border-color: transparent;\n",
              "      border-bottom-color: var(--fill-color);\n",
              "    }\n",
              "  }\n",
              "</style>\n",
              "\n",
              "  <script>\n",
              "    async function quickchart(key) {\n",
              "      const quickchartButtonEl =\n",
              "        document.querySelector('#' + key + ' button');\n",
              "      quickchartButtonEl.disabled = true;  // To prevent multiple clicks.\n",
              "      quickchartButtonEl.classList.add('colab-df-spinner');\n",
              "      try {\n",
              "        const charts = await google.colab.kernel.invokeFunction(\n",
              "            'suggestCharts', [key], {});\n",
              "      } catch (error) {\n",
              "        console.error('Error during call to suggestCharts:', error);\n",
              "      }\n",
              "      quickchartButtonEl.classList.remove('colab-df-spinner');\n",
              "      quickchartButtonEl.classList.add('colab-df-quickchart-complete');\n",
              "    }\n",
              "    (() => {\n",
              "      let quickchartButtonEl =\n",
              "        document.querySelector('#df-844dcc10-77cd-4d7f-9d13-9652ee6157a6 button');\n",
              "      quickchartButtonEl.style.display =\n",
              "        google.colab.kernel.accessAllowed ? 'block' : 'none';\n",
              "    })();\n",
              "  </script>\n",
              "</div>\n",
              "    </div>\n",
              "  </div>\n"
            ]
          },
          "metadata": {},
          "execution_count": 75
        }
      ],
      "source": [
        "df = pd.read_csv('realtor-data.csv')\n",
        "df.head()"
      ]
    },
    {
      "cell_type": "code",
      "execution_count": 76,
      "id": "06531579",
      "metadata": {
        "execution": {
          "iopub.execute_input": "2023-05-03T23:55:10.412271Z",
          "iopub.status.busy": "2023-05-03T23:55:10.411276Z",
          "iopub.status.idle": "2023-05-03T23:55:10.494796Z",
          "shell.execute_reply": "2023-05-03T23:55:10.493124Z"
        },
        "papermill": {
          "duration": 0.094152,
          "end_time": "2023-05-03T23:55:10.497245",
          "exception": false,
          "start_time": "2023-05-03T23:55:10.403093",
          "status": "completed"
        },
        "tags": [],
        "colab": {
          "base_uri": "https://localhost:8080/"
        },
        "id": "06531579",
        "outputId": "30399c07-bf5c-4884-a07d-c2eef82f0121"
      },
      "outputs": [
        {
          "output_type": "stream",
          "name": "stdout",
          "text": [
            "<class 'pandas.core.frame.DataFrame'>\n",
            "RangeIndex: 904966 entries, 0 to 904965\n",
            "Data columns (total 10 columns):\n",
            " #   Column          Non-Null Count   Dtype  \n",
            "---  ------          --------------   -----  \n",
            " 0   status          904966 non-null  object \n",
            " 1   bed             775126 non-null  float64\n",
            " 2   bath            791082 non-null  float64\n",
            " 3   acre_lot        638324 non-null  float64\n",
            " 4   city            904894 non-null  object \n",
            " 5   state           904966 non-null  object \n",
            " 6   zip_code        904762 non-null  float64\n",
            " 7   house_size      612080 non-null  float64\n",
            " 8   prev_sold_date  445865 non-null  object \n",
            " 9   price           904895 non-null  float64\n",
            "dtypes: float64(6), object(4)\n",
            "memory usage: 69.0+ MB\n"
          ]
        }
      ],
      "source": [
        "df.info()"
      ]
    },
    {
      "cell_type": "code",
      "execution_count": 77,
      "id": "7a52a2c3",
      "metadata": {
        "execution": {
          "iopub.execute_input": "2023-05-03T23:55:10.513043Z",
          "iopub.status.busy": "2023-05-03T23:55:10.512200Z",
          "iopub.status.idle": "2023-05-03T23:55:10.532760Z",
          "shell.execute_reply": "2023-05-03T23:55:10.531586Z"
        },
        "papermill": {
          "duration": 0.031108,
          "end_time": "2023-05-03T23:55:10.535205",
          "exception": false,
          "start_time": "2023-05-03T23:55:10.504097",
          "status": "completed"
        },
        "tags": [],
        "colab": {
          "base_uri": "https://localhost:8080/"
        },
        "id": "7a52a2c3",
        "outputId": "99ce294a-87f3-4a29-ab6c-f8578adafe93"
      },
      "outputs": [
        {
          "output_type": "execute_result",
          "data": {
            "text/plain": [
              "count    9.048950e+05\n",
              "mean     8.774382e+05\n",
              "std      2.457698e+06\n",
              "min      0.000000e+00\n",
              "25%      2.685000e+05\n",
              "50%      4.750000e+05\n",
              "75%      8.300000e+05\n",
              "max      8.750000e+08\n",
              "Name: price, dtype: float64"
            ]
          },
          "metadata": {},
          "execution_count": 77
        }
      ],
      "source": [
        "df['price'].describe()"
      ]
    },
    {
      "cell_type": "code",
      "execution_count": 78,
      "id": "5ae72dea",
      "metadata": {
        "execution": {
          "iopub.execute_input": "2023-05-03T23:55:10.552387Z",
          "iopub.status.busy": "2023-05-03T23:55:10.551865Z",
          "iopub.status.idle": "2023-05-03T23:55:10.967289Z",
          "shell.execute_reply": "2023-05-03T23:55:10.966015Z"
        },
        "papermill": {
          "duration": 0.427043,
          "end_time": "2023-05-03T23:55:10.969675",
          "exception": false,
          "start_time": "2023-05-03T23:55:10.542632",
          "status": "completed"
        },
        "tags": [],
        "colab": {
          "base_uri": "https://localhost:8080/",
          "height": 831
        },
        "id": "5ae72dea",
        "outputId": "f201f5d7-ee27-4b46-ba4f-a9d1ca360c18"
      },
      "outputs": [
        {
          "output_type": "stream",
          "name": "stderr",
          "text": [
            "<ipython-input-78-9c382d73f616>:1: FutureWarning: The default value of numeric_only in DataFrame.corr is deprecated. In a future version, it will default to False. Select only valid columns or specify the value of numeric_only to silence this warning.\n",
            "  CorrMap = df.corr()\n"
          ]
        },
        {
          "output_type": "execute_result",
          "data": {
            "text/plain": [
              "<Axes: >"
            ]
          },
          "metadata": {},
          "execution_count": 78
        },
        {
          "output_type": "display_data",
          "data": {
            "text/plain": [
              "<Figure size 1200x900 with 2 Axes>"
            ],
            "image/png": "[encoded data removed]"
          },
          "metadata": {}
        }
      ],
      "source": [
        "CorrMap = df.corr()\n",
        "plt.figure(figsize = (12,9))\n",
        "sns.heatmap(CorrMap,vmax = 0.8 , square = True)"
      ]
    },
    {
      "cell_type": "code",
      "execution_count": 79,
      "id": "1bc554ec",
      "metadata": {
        "execution": {
          "iopub.execute_input": "2023-05-03T23:55:10.987350Z",
          "iopub.status.busy": "2023-05-03T23:55:10.986519Z",
          "iopub.status.idle": "2023-05-03T23:55:11.178610Z",
          "shell.execute_reply": "2023-05-03T23:55:11.177525Z"
        },
        "papermill": {
          "duration": 0.203605,
          "end_time": "2023-05-03T23:55:11.181059",
          "exception": false,
          "start_time": "2023-05-03T23:55:10.977454",
          "status": "completed"
        },
        "tags": [],
        "colab": {
          "base_uri": "https://localhost:8080/",
          "height": 363
        },
        "id": "1bc554ec",
        "outputId": "4d160dc0-e74b-4d0b-82b7-2ff8a271d42a"
      },
      "outputs": [
        {
          "output_type": "execute_result",
          "data": {
            "text/plain": [
              "                 Total  Percentage\n",
              "prev_sold_date  459101    0.507313\n",
              "house_size      292886    0.323643\n",
              "acre_lot        266642    0.294643\n",
              "bed             129840    0.143475\n",
              "bath            113884    0.125843\n",
              "zip_code           204    0.000225\n",
              "city                72    0.000080\n",
              "price               71    0.000078\n",
              "status               0    0.000000\n",
              "state                0    0.000000"
            ],
            "text/html": [
              "\n",
              "  <div id=\"df-d9a86781-f3e1-4937-86de-fa95e3c29de1\" class=\"colab-df-container\">\n",
              "    <div>\n",
              "<style scoped>\n",
              "    .dataframe tbody tr th:only-of-type {\n",
              "        vertical-align: middle;\n",
              "    }\n",
              "\n",
              "    .dataframe tbody tr th {\n",
              "        vertical-align: top;\n",
              "    }\n",
              "\n",
              "    .dataframe thead th {\n",
              "        text-align: right;\n",
              "    }\n",
              "</style>\n",
              "<table border=\"1\" class=\"dataframe\">\n",
              "  <thead>\n",
              "    <tr style=\"text-align: right;\">\n",
              "      <th></th>\n",
              "      <th>Total</th>\n",
              "      <th>Percentage</th>\n",
              "    </tr>\n",
              "  </thead>\n",
              "  <tbody>\n",
              "    <tr>\n",
              "      <th>prev_sold_date</th>\n",
              "      <td>459101</td>\n",
              "      <td>0.507313</td>\n",
              "    </tr>\n",
              "    <tr>\n",
              "      <th>house_size</th>\n",
              "      <td>292886</td>\n",
              "      <td>0.323643</td>\n",
              "    </tr>\n",
              "    <tr>\n",
              "      <th>acre_lot</th>\n",
              "      <td>266642</td>\n",
              "      <td>0.294643</td>\n",
              "    </tr>\n",
              "    <tr>\n",
              "      <th>bed</th>\n",
              "      <td>129840</td>\n",
              "      <td>0.143475</td>\n",
              "    </tr>\n",
              "    <tr>\n",
              "      <th>bath</th>\n",
              "      <td>113884</td>\n",
              "      <td>0.125843</td>\n",
              "    </tr>\n",
              "    <tr>\n",
              "      <th>zip_code</th>\n",
              "      <td>204</td>\n",
              "      <td>0.000225</td>\n",
              "    </tr>\n",
              "    <tr>\n",
              "      <th>city</th>\n",
              "      <td>72</td>\n",
              "      <td>0.000080</td>\n",
              "    </tr>\n",
              "    <tr>\n",
              "      <th>price</th>\n",
              "      <td>71</td>\n",
              "      <td>0.000078</td>\n",
              "    </tr>\n",
              "    <tr>\n",
              "      <th>status</th>\n",
              "      <td>0</td>\n",
              "      <td>0.000000</td>\n",
              "    </tr>\n",
              "    <tr>\n",
              "      <th>state</th>\n",
              "      <td>0</td>\n",
              "      <td>0.000000</td>\n",
              "    </tr>\n",
              "  </tbody>\n",
              "</table>\n",
              "</div>\n",
              "    <div class=\"colab-df-buttons\">\n",
              "\n",
              "  <div class=\"colab-df-container\">\n",
              "    <button class=\"colab-df-convert\" onclick=\"convertToInteractive('df-d9a86781-f3e1-4937-86de-fa95e3c29de1')\"\n",
              "            title=\"Convert this dataframe to an interactive table.\"\n",
              "            style=\"display:none;\">\n",
              "\n",
              "  <svg xmlns=\"http://www.w3.org/2000/svg\" height=\"24px\" viewBox=\"0 -960 960 960\">\n",
              "    <path d=\"M120-120v-720h720v720H120Zm60-500h600v-160H180v160Zm220 220h160v-160H400v160Zm0 220h160v-160H400v160ZM180-400h160v-160H180v160Zm440 0h160v-160H620v160ZM180-180h160v-160H180v160Zm440 0h160v-160H620v160Z\"/>\n",
              "  </svg>\n",
              "    </button>\n",
              "\n",
              "  <style>\n",
              "    .colab-df-container {\n",
              "      display:flex;\n",
              "      gap: 12px;\n",
              "    }\n",
              "\n",
              "    .colab-df-convert {\n",
              "      background-color: #E8F0FE;\n",
              "      border: none;\n",
              "      border-radius: 50%;\n",
              "      cursor: pointer;\n",
              "      display: none;\n",
              "      fill: #1967D2;\n",
              "      height: 32px;\n",
              "      padding: 0 0 0 0;\n",
              "      width: 32px;\n",
              "    }\n",
              "\n",
              "    .colab-df-convert:hover {\n",
              "      background-color: #E2EBFA;\n",
              "      box-shadow: 0px 1px 2px rgba(60, 64, 67, 0.3), 0px 1px 3px 1px rgba(60, 64, 67, 0.15);\n",
              "      fill: #174EA6;\n",
              "    }\n",
              "\n",
              "    .colab-df-buttons div {\n",
              "      margin-bottom: 4px;\n",
              "    }\n",
              "\n",
              "    [theme=dark] .colab-df-convert {\n",
              "      background-color: #3B4455;\n",
              "      fill: #D2E3FC;\n",
              "    }\n",
              "\n",
              "    [theme=dark] .colab-df-convert:hover {\n",
              "      background-color: #434B5C;\n",
              "      box-shadow: 0px 1px 3px 1px rgba(0, 0, 0, 0.15);\n",
              "      filter: drop-shadow(0px 1px 2px rgba(0, 0, 0, 0.3));\n",
              "      fill: #FFFFFF;\n",
              "    }\n",
              "  </style>\n",
              "\n",
              "    <script>\n",
              "      const buttonEl =\n",
              "        document.querySelector('#df-d9a86781-f3e1-4937-86de-fa95e3c29de1 button.colab-df-convert');\n",
              "      buttonEl.style.display =\n",
              "        google.colab.kernel.accessAllowed ? 'block' : 'none';\n",
              "\n",
              "      async function convertToInteractive(key) {\n",
              "        const element = document.querySelector('#df-d9a86781-f3e1-4937-86de-fa95e3c29de1');\n",
              "        const dataTable =\n",
              "          await google.colab.kernel.invokeFunction('convertToInteractive',\n",
              "                                                    [key], {});\n",
              "        if (!dataTable) return;\n",
              "\n",
              "        const docLinkHtml = 'Like what you see? Visit the ' +\n",
              "          '<a target=\"_blank\" href=https://colab.research.google.com/notebooks/data_table.ipynb>data table notebook</a>'\n",
              "          + ' to learn more about interactive tables.';\n",
              "        element.innerHTML = '';\n",
              "        dataTable['output_type'] = 'display_data';\n",
              "        await google.colab.output.renderOutput(dataTable, element);\n",
              "        const docLink = document.createElement('div');\n",
              "        docLink.innerHTML = docLinkHtml;\n",
              "        element.appendChild(docLink);\n",
              "      }\n",
              "    </script>\n",
              "  </div>\n",
              "\n",
              "\n",
              "<div id=\"df-c232b8e9-3b99-4de0-9f14-0e0ca26ff8f5\">\n",
              "  <button class=\"colab-df-quickchart\" onclick=\"quickchart('df-c232b8e9-3b99-4de0-9f14-0e0ca26ff8f5')\"\n",
              "            title=\"Suggest charts\"\n",
              "            style=\"display:none;\">\n",
              "\n",
              "<svg xmlns=\"http://www.w3.org/2000/svg\" height=\"24px\"viewBox=\"0 0 24 24\"\n",
              "     width=\"24px\">\n",
              "    <g>\n",
              "        <path d=\"M19 3H5c-1.1 0-2 .9-2 2v14c0 1.1.9 2 2 2h14c1.1 0 2-.9 2-2V5c0-1.1-.9-2-2-2zM9 17H7v-7h2v7zm4 0h-2V7h2v10zm4 0h-2v-4h2v4z\"/>\n",
              "    </g>\n",
              "</svg>\n",
              "  </button>\n",
              "\n",
              "<style>\n",
              "  .colab-df-quickchart {\n",
              "      --bg-color: #E8F0FE;\n",
              "      --fill-color: #1967D2;\n",
              "      --hover-bg-color: #E2EBFA;\n",
              "      --hover-fill-color: #174EA6;\n",
              "      --disabled-fill-color: #AAA;\n",
              "      --disabled-bg-color: #DDD;\n",
              "  }\n",
              "\n",
              "  [theme=dark] .colab-df-quickchart {\n",
              "      --bg-color: #3B4455;\n",
              "      --fill-color: #D2E3FC;\n",
              "      --hover-bg-color: #434B5C;\n",
              "      --hover-fill-color: #FFFFFF;\n",
              "      --disabled-bg-color: #3B4455;\n",
              "      --disabled-fill-color: #666;\n",
              "  }\n",
              "\n",
              "  .colab-df-quickchart {\n",
              "    background-color: var(--bg-color);\n",
              "    border: none;\n",
              "    border-radius: 50%;\n",
              "    cursor: pointer;\n",
              "    display: none;\n",
              "    fill: var(--fill-color);\n",
              "    height: 32px;\n",
              "    padding: 0;\n",
              "    width: 32px;\n",
              "  }\n",
              "\n",
              "  .colab-df-quickchart:hover {\n",
              "    background-color: var(--hover-bg-color);\n",
              "    box-shadow: 0 1px 2px rgba(60, 64, 67, 0.3), 0 1px 3px 1px rgba(60, 64, 67, 0.15);\n",
              "    fill: var(--button-hover-fill-color);\n",
              "  }\n",
              "\n",
              "  .colab-df-quickchart-complete:disabled,\n",
              "  .colab-df-quickchart-complete:disabled:hover {\n",
              "    background-color: var(--disabled-bg-color);\n",
              "    fill: var(--disabled-fill-color);\n",
              "    box-shadow: none;\n",
              "  }\n",
              "\n",
              "  .colab-df-spinner {\n",
              "    border: 2px solid var(--fill-color);\n",
              "    border-color: transparent;\n",
              "    border-bottom-color: var(--fill-color);\n",
              "    animation:\n",
              "      spin 1s steps(1) infinite;\n",
              "  }\n",
              "\n",
              "  @keyframes spin {\n",
              "    0% {\n",
              "      border-color: transparent;\n",
              "      border-bottom-color: var(--fill-color);\n",
              "      border-left-color: var(--fill-color);\n",
              "    }\n",
              "    20% {\n",
              "      border-color: transparent;\n",
              "      border-left-color: var(--fill-color);\n",
              "      border-top-color: var(--fill-color);\n",
              "    }\n",
              "    30% {\n",
              "      border-color: transparent;\n",
              "      border-left-color: var(--fill-color);\n",
              "      border-top-color: var(--fill-color);\n",
              "      border-right-color: var(--fill-color);\n",
              "    }\n",
              "    40% {\n",
              "      border-color: transparent;\n",
              "      border-right-color: var(--fill-color);\n",
              "      border-top-color: var(--fill-color);\n",
              "    }\n",
              "    60% {\n",
              "      border-color: transparent;\n",
              "      border-right-color: var(--fill-color);\n",
              "    }\n",
              "    80% {\n",
              "      border-color: transparent;\n",
              "      border-right-color: var(--fill-color);\n",
              "      border-bottom-color: var(--fill-color);\n",
              "    }\n",
              "    90% {\n",
              "      border-color: transparent;\n",
              "      border-bottom-color: var(--fill-color);\n",
              "    }\n",
              "  }\n",
              "</style>\n",
              "\n",
              "  <script>\n",
              "    async function quickchart(key) {\n",
              "      const quickchartButtonEl =\n",
              "        document.querySelector('#' + key + ' button');\n",
              "      quickchartButtonEl.disabled = true;  // To prevent multiple clicks.\n",
              "      quickchartButtonEl.classList.add('colab-df-spinner');\n",
              "      try {\n",
              "        const charts = await google.colab.kernel.invokeFunction(\n",
              "            'suggestCharts', [key], {});\n",
              "      } catch (error) {\n",
              "        console.error('Error during call to suggestCharts:', error);\n",
              "      }\n",
              "      quickchartButtonEl.classList.remove('colab-df-spinner');\n",
              "      quickchartButtonEl.classList.add('colab-df-quickchart-complete');\n",
              "    }\n",
              "    (() => {\n",
              "      let quickchartButtonEl =\n",
              "        document.querySelector('#df-c232b8e9-3b99-4de0-9f14-0e0ca26ff8f5 button');\n",
              "      quickchartButtonEl.style.display =\n",
              "        google.colab.kernel.accessAllowed ? 'block' : 'none';\n",
              "    })();\n",
              "  </script>\n",
              "</div>\n",
              "    </div>\n",
              "  </div>\n"
            ]
          },
          "metadata": {},
          "execution_count": 79
        }
      ],
      "source": [
        "Total = df.isnull().sum().sort_values(ascending = False)\n",
        "Percent = (df.isnull().sum() / df.isnull().count()).sort_values(ascending = False)\n",
        "Missing_data = pd.concat([Total , Percent],axis = 1 ,keys = ['Total' , 'Percentage'])\n",
        "Missing_data"
      ]
    },
    {
      "cell_type": "code",
      "execution_count": 80,
      "id": "ebb40f8d",
      "metadata": {
        "execution": {
          "iopub.execute_input": "2023-05-03T23:55:11.199268Z",
          "iopub.status.busy": "2023-05-03T23:55:11.198743Z",
          "iopub.status.idle": "2023-05-03T23:55:11.576644Z",
          "shell.execute_reply": "2023-05-03T23:55:11.575568Z"
        },
        "papermill": {
          "duration": 0.38969,
          "end_time": "2023-05-03T23:55:11.578735",
          "exception": false,
          "start_time": "2023-05-03T23:55:11.189045",
          "status": "completed"
        },
        "tags": [],
        "colab": {
          "base_uri": "https://localhost:8080/",
          "height": 465
        },
        "id": "ebb40f8d",
        "outputId": "457f8cc8-fa3f-4773-cbb2-f444233cee38"
      },
      "outputs": [
        {
          "output_type": "display_data",
          "data": {
            "text/plain": [
              "<Figure size 640x480 with 1 Axes>"
            ],
            "image/png": "[encoded data removed]"
          },
          "metadata": {}
        }
      ],
      "source": [
        "data = pd.concat([df['price'],df['bed']],axis = 1)\n",
        "data.plot.scatter(x = 'bed',y = 'price')\n",
        "plt.show()"
      ]
    },
    {
      "cell_type": "code",
      "execution_count": 81,
      "id": "c52f95cd",
      "metadata": {
        "execution": {
          "iopub.execute_input": "2023-05-03T23:55:11.597239Z",
          "iopub.status.busy": "2023-05-03T23:55:11.596395Z",
          "iopub.status.idle": "2023-05-03T23:55:11.617399Z",
          "shell.execute_reply": "2023-05-03T23:55:11.616527Z"
        },
        "papermill": {
          "duration": 0.032754,
          "end_time": "2023-05-03T23:55:11.619790",
          "exception": false,
          "start_time": "2023-05-03T23:55:11.587036",
          "status": "completed"
        },
        "tags": [],
        "id": "c52f95cd"
      },
      "outputs": [],
      "source": [
        "df['bed'].sort_values(ascending = False)[:1]\n",
        "df = df.drop(df[df['bed'] == 86].index)"
      ]
    },
    {
      "cell_type": "code",
      "execution_count": 82,
      "id": "9dc5cea7",
      "metadata": {
        "execution": {
          "iopub.execute_input": "2023-05-03T23:55:11.638224Z",
          "iopub.status.busy": "2023-05-03T23:55:11.637777Z",
          "iopub.status.idle": "2023-05-03T23:55:11.982794Z",
          "shell.execute_reply": "2023-05-03T23:55:11.981647Z"
        },
        "papermill": {
          "duration": 0.35691,
          "end_time": "2023-05-03T23:55:11.985087",
          "exception": false,
          "start_time": "2023-05-03T23:55:11.628177",
          "status": "completed"
        },
        "tags": [],
        "colab": {
          "base_uri": "https://localhost:8080/",
          "height": 482
        },
        "id": "9dc5cea7",
        "outputId": "dd59e75d-a8ad-4b53-86c2-e78608b7f368"
      },
      "outputs": [
        {
          "output_type": "display_data",
          "data": {
            "text/plain": [
              "<Figure size 640x480 with 1 Axes>"
            ],
            "image/png": "[encoded data removed]"
          },
          "metadata": {}
        },
        {
          "output_type": "execute_result",
          "data": {
            "text/plain": [
              "0"
            ]
          },
          "metadata": {},
          "execution_count": 82
        }
      ],
      "source": [
        "data = pd.concat([df['price'],df['bed']],axis = 1)\n",
        "data.plot.scatter(x = 'bed',y = 'price')\n",
        "plt.show()\n",
        "df['bed'].fillna(df['bed'].dropna().median(),inplace = True)\n",
        "df['bed'].isnull().sum()"
      ]
    },
    {
      "cell_type": "code",
      "execution_count": 83,
      "id": "6bf78c95",
      "metadata": {
        "execution": {
          "iopub.execute_input": "2023-05-03T23:55:12.004141Z",
          "iopub.status.busy": "2023-05-03T23:55:12.003702Z",
          "iopub.status.idle": "2023-05-03T23:55:12.335529Z",
          "shell.execute_reply": "2023-05-03T23:55:12.334354Z"
        },
        "papermill": {
          "duration": 0.344039,
          "end_time": "2023-05-03T23:55:12.337771",
          "exception": false,
          "start_time": "2023-05-03T23:55:11.993732",
          "status": "completed"
        },
        "tags": [],
        "colab": {
          "base_uri": "https://localhost:8080/",
          "height": 465
        },
        "id": "6bf78c95",
        "outputId": "b8d85c29-2054-4563-c1ad-6d62417ef092"
      },
      "outputs": [
        {
          "output_type": "display_data",
          "data": {
            "text/plain": [
              "<Figure size 640x480 with 1 Axes>"
            ],
            "image/png": "[encoded data removed]"
          },
          "metadata": {}
        }
      ],
      "source": [
        "data = pd.concat([df['price'],df['bath']],axis = 1)\n",
        "data.plot.scatter(x = 'bath' , y = 'price')\n",
        "plt.show()"
      ]
    },
    {
      "cell_type": "code",
      "execution_count": 84,
      "id": "6e986efb",
      "metadata": {
        "execution": {
          "iopub.execute_input": "2023-05-03T23:55:12.358062Z",
          "iopub.status.busy": "2023-05-03T23:55:12.356976Z",
          "iopub.status.idle": "2023-05-03T23:55:12.396318Z",
          "shell.execute_reply": "2023-05-03T23:55:12.395229Z"
        },
        "papermill": {
          "duration": 0.051995,
          "end_time": "2023-05-03T23:55:12.398877",
          "exception": false,
          "start_time": "2023-05-03T23:55:12.346882",
          "status": "completed"
        },
        "tags": [],
        "id": "6e986efb"
      },
      "outputs": [],
      "source": [
        "df['bath'].sort_values(ascending = False)[:4]\n",
        "df = df.drop(df[df['bath'] == 36].index)\n",
        "df = df.drop(df[df['bath'] == 35].index)"
      ]
    },
    {
      "cell_type": "code",
      "execution_count": 85,
      "id": "df1cafba",
      "metadata": {
        "execution": {
          "iopub.execute_input": "2023-05-03T23:55:12.419401Z",
          "iopub.status.busy": "2023-05-03T23:55:12.418426Z",
          "iopub.status.idle": "2023-05-03T23:55:12.744262Z",
          "shell.execute_reply": "2023-05-03T23:55:12.742999Z"
        },
        "papermill": {
          "duration": 0.338394,
          "end_time": "2023-05-03T23:55:12.746621",
          "exception": false,
          "start_time": "2023-05-03T23:55:12.408227",
          "status": "completed"
        },
        "tags": [],
        "colab": {
          "base_uri": "https://localhost:8080/",
          "height": 482
        },
        "id": "df1cafba",
        "outputId": "644fdb63-3fc9-4b76-c2c1-a02c5fe34ff5"
      },
      "outputs": [
        {
          "output_type": "display_data",
          "data": {
            "text/plain": [
              "<Figure size 640x480 with 1 Axes>"
            ],
            "image/png": "[encoded data removed]"
          },
          "metadata": {}
        },
        {
          "output_type": "execute_result",
          "data": {
            "text/plain": [
              "0"
            ]
          },
          "metadata": {},
          "execution_count": 85
        }
      ],
      "source": [
        "data = pd.concat([df['price'],df['bath']],axis = 1)\n",
        "data.plot.scatter(x = 'bath' , y = 'price')\n",
        "plt.show()\n",
        "df['bath'].fillna(df['bath'].dropna().median(),inplace = True)\n",
        "df['bath'].isnull().sum()"
      ]
    },
    {
      "cell_type": "code",
      "execution_count": 86,
      "id": "fd5f47f1",
      "metadata": {
        "execution": {
          "iopub.execute_input": "2023-05-03T23:55:12.767646Z",
          "iopub.status.busy": "2023-05-03T23:55:12.767261Z",
          "iopub.status.idle": "2023-05-03T23:55:13.103531Z",
          "shell.execute_reply": "2023-05-03T23:55:13.102207Z"
        },
        "papermill": {
          "duration": 0.349827,
          "end_time": "2023-05-03T23:55:13.105977",
          "exception": false,
          "start_time": "2023-05-03T23:55:12.756150",
          "status": "completed"
        },
        "tags": [],
        "colab": {
          "base_uri": "https://localhost:8080/",
          "height": 465
        },
        "id": "fd5f47f1",
        "outputId": "528c929b-cf60-44fa-8d57-b0c40cf68f0e"
      },
      "outputs": [
        {
          "output_type": "display_data",
          "data": {
            "text/plain": [
              "<Figure size 640x480 with 1 Axes>"
            ],
            "image/png": "[encoded data removed]"
          },
          "metadata": {}
        }
      ],
      "source": [
        "data = pd.concat([df['price'],df['house_size']],axis = 1)\n",
        "data.plot.scatter(x = 'house_size',y = 'price')\n",
        "plt.show()"
      ]
    },
    {
      "cell_type": "code",
      "execution_count": 87,
      "id": "77381b18",
      "metadata": {
        "execution": {
          "iopub.execute_input": "2023-05-03T23:55:13.128210Z",
          "iopub.status.busy": "2023-05-03T23:55:13.127110Z",
          "iopub.status.idle": "2023-05-03T23:55:13.157679Z",
          "shell.execute_reply": "2023-05-03T23:55:13.156407Z"
        },
        "papermill": {
          "duration": 0.044118,
          "end_time": "2023-05-03T23:55:13.160266",
          "exception": false,
          "start_time": "2023-05-03T23:55:13.116148",
          "status": "completed"
        },
        "tags": [],
        "id": "77381b18"
      },
      "outputs": [],
      "source": [
        "df['house_size'].sort_values(ascending = False)[:1]\n",
        "df = df.drop(df[df['house_size'] == 1450112].index)"
      ]
    },
    {
      "cell_type": "code",
      "execution_count": 88,
      "id": "a2c012de",
      "metadata": {
        "execution": {
          "iopub.execute_input": "2023-05-03T23:55:13.181863Z",
          "iopub.status.busy": "2023-05-03T23:55:13.181455Z",
          "iopub.status.idle": "2023-05-03T23:55:13.510630Z",
          "shell.execute_reply": "2023-05-03T23:55:13.509616Z"
        },
        "papermill": {
          "duration": 0.342684,
          "end_time": "2023-05-03T23:55:13.512797",
          "exception": false,
          "start_time": "2023-05-03T23:55:13.170113",
          "status": "completed"
        },
        "tags": [],
        "colab": {
          "base_uri": "https://localhost:8080/",
          "height": 482
        },
        "id": "a2c012de",
        "outputId": "732f7d38-a994-4bbf-c489-1041873cd3ab"
      },
      "outputs": [
        {
          "output_type": "display_data",
          "data": {
            "text/plain": [
              "<Figure size 640x480 with 1 Axes>"
            ],
            "image/png": "[encoded data removed]"
          },
          "metadata": {}
        },
        {
          "output_type": "execute_result",
          "data": {
            "text/plain": [
              "0"
            ]
          },
          "metadata": {},
          "execution_count": 88
        }
      ],
      "source": [
        "data = pd.concat([df['price'],df['house_size']],axis = 1)\n",
        "data.plot.scatter(x = 'house_size',y = 'price')\n",
        "plt.show()\n",
        "df['house_size'].fillna(df['house_size'].dropna().median(),inplace = True)\n",
        "df['house_size'].isnull().sum()"
      ]
    },
    {
      "cell_type": "code",
      "execution_count": 89,
      "id": "ce93c79e",
      "metadata": {
        "execution": {
          "iopub.execute_input": "2023-05-03T23:55:13.535967Z",
          "iopub.status.busy": "2023-05-03T23:55:13.534746Z",
          "iopub.status.idle": "2023-05-03T23:55:13.547184Z",
          "shell.execute_reply": "2023-05-03T23:55:13.546112Z"
        },
        "papermill": {
          "duration": 0.026536,
          "end_time": "2023-05-03T23:55:13.549600",
          "exception": false,
          "start_time": "2023-05-03T23:55:13.523064",
          "status": "completed"
        },
        "tags": [],
        "colab": {
          "base_uri": "https://localhost:8080/"
        },
        "id": "ce93c79e",
        "outputId": "16801fa4-952d-49ae-c9f6-17e55827b717"
      },
      "outputs": [
        {
          "output_type": "execute_result",
          "data": {
            "text/plain": [
              "0"
            ]
          },
          "metadata": {},
          "execution_count": 89
        }
      ],
      "source": [
        "df['acre_lot'].fillna(df['acre_lot'].dropna().median(),inplace = True)\n",
        "df['acre_lot'].isnull().sum()"
      ]
    },
    {
      "cell_type": "code",
      "execution_count": 90,
      "id": "754db8a1",
      "metadata": {
        "execution": {
          "iopub.execute_input": "2023-05-03T23:55:13.572580Z",
          "iopub.status.busy": "2023-05-03T23:55:13.571987Z",
          "iopub.status.idle": "2023-05-03T23:55:13.592182Z",
          "shell.execute_reply": "2023-05-03T23:55:13.591305Z"
        },
        "papermill": {
          "duration": 0.0342,
          "end_time": "2023-05-03T23:55:13.594275",
          "exception": false,
          "start_time": "2023-05-03T23:55:13.560075",
          "status": "completed"
        },
        "tags": [],
        "colab": {
          "base_uri": "https://localhost:8080/",
          "height": 206
        },
        "id": "754db8a1",
        "outputId": "443b4ee3-2d5b-4e2d-ac33-dd67753fe06f"
      },
      "outputs": [
        {
          "output_type": "execute_result",
          "data": {
            "text/plain": [
              "   bed  bath  acre_lot        city        state  house_size     price\n",
              "0  3.0   2.0      0.12    Adjuntas  Puerto Rico       920.0  105000.0\n",
              "1  4.0   2.0      0.08    Adjuntas  Puerto Rico      1527.0   80000.0\n",
              "2  2.0   1.0      0.15  Juana Diaz  Puerto Rico       748.0   67000.0\n",
              "3  4.0   2.0      0.10       Ponce  Puerto Rico      1800.0  145000.0\n",
              "4  6.0   2.0      0.05    Mayaguez  Puerto Rico      1650.0   65000.0"
            ],
            "text/html": [
              "\n",
              "  <div id=\"df-a60709d3-afce-45f7-8c01-0fe2977d5134\" class=\"colab-df-container\">\n",
              "    <div>\n",
              "<style scoped>\n",
              "    .dataframe tbody tr th:only-of-type {\n",
              "        vertical-align: middle;\n",
              "    }\n",
              "\n",
              "    .dataframe tbody tr th {\n",
              "        vertical-align: top;\n",
              "    }\n",
              "\n",
              "    .dataframe thead th {\n",
              "        text-align: right;\n",
              "    }\n",
              "</style>\n",
              "<table border=\"1\" class=\"dataframe\">\n",
              "  <thead>\n",
              "    <tr style=\"text-align: right;\">\n",
              "      <th></th>\n",
              "      <th>bed</th>\n",
              "      <th>bath</th>\n",
              "      <th>acre_lot</th>\n",
              "      <th>city</th>\n",
              "      <th>state</th>\n",
              "      <th>house_size</th>\n",
              "      <th>price</th>\n",
              "    </tr>\n",
              "  </thead>\n",
              "  <tbody>\n",
              "    <tr>\n",
              "      <th>0</th>\n",
              "      <td>3.0</td>\n",
              "      <td>2.0</td>\n",
              "      <td>0.12</td>\n",
              "      <td>Adjuntas</td>\n",
              "      <td>Puerto Rico</td>\n",
              "      <td>920.0</td>\n",
              "      <td>105000.0</td>\n",
              "    </tr>\n",
              "    <tr>\n",
              "      <th>1</th>\n",
              "      <td>4.0</td>\n",
              "      <td>2.0</td>\n",
              "      <td>0.08</td>\n",
              "      <td>Adjuntas</td>\n",
              "      <td>Puerto Rico</td>\n",
              "      <td>1527.0</td>\n",
              "      <td>80000.0</td>\n",
              "    </tr>\n",
              "    <tr>\n",
              "      <th>2</th>\n",
              "      <td>2.0</td>\n",
              "      <td>1.0</td>\n",
              "      <td>0.15</td>\n",
              "      <td>Juana Diaz</td>\n",
              "      <td>Puerto Rico</td>\n",
              "      <td>748.0</td>\n",
              "      <td>67000.0</td>\n",
              "    </tr>\n",
              "    <tr>\n",
              "      <th>3</th>\n",
              "      <td>4.0</td>\n",
              "      <td>2.0</td>\n",
              "      <td>0.10</td>\n",
              "      <td>Ponce</td>\n",
              "      <td>Puerto Rico</td>\n",
              "      <td>1800.0</td>\n",
              "      <td>145000.0</td>\n",
              "    </tr>\n",
              "    <tr>\n",
              "      <th>4</th>\n",
              "      <td>6.0</td>\n",
              "      <td>2.0</td>\n",
              "      <td>0.05</td>\n",
              "      <td>Mayaguez</td>\n",
              "      <td>Puerto Rico</td>\n",
              "      <td>1650.0</td>\n",
              "      <td>65000.0</td>\n",
              "    </tr>\n",
              "  </tbody>\n",
              "</table>\n",
              "</div>\n",
              "    <div class=\"colab-df-buttons\">\n",
              "\n",
              "  <div class=\"colab-df-container\">\n",
              "    <button class=\"colab-df-convert\" onclick=\"convertToInteractive('df-a60709d3-afce-45f7-8c01-0fe2977d5134')\"\n",
              "            title=\"Convert this dataframe to an interactive table.\"\n",
              "            style=\"display:none;\">\n",
              "\n",
              "  <svg xmlns=\"http://www.w3.org/2000/svg\" height=\"24px\" viewBox=\"0 -960 960 960\">\n",
              "    <path d=\"M120-120v-720h720v720H120Zm60-500h600v-160H180v160Zm220 220h160v-160H400v160Zm0 220h160v-160H400v160ZM180-400h160v-160H180v160Zm440 0h160v-160H620v160ZM180-180h160v-160H180v160Zm440 0h160v-160H620v160Z\"/>\n",
              "  </svg>\n",
              "    </button>\n",
              "\n",
              "  <style>\n",
              "    .colab-df-container {\n",
              "      display:flex;\n",
              "      gap: 12px;\n",
              "    }\n",
              "\n",
              "    .colab-df-convert {\n",
              "      background-color: #E8F0FE;\n",
              "      border: none;\n",
              "      border-radius: 50%;\n",
              "      cursor: pointer;\n",
              "      display: none;\n",
              "      fill: #1967D2;\n",
              "      height: 32px;\n",
              "      padding: 0 0 0 0;\n",
              "      width: 32px;\n",
              "    }\n",
              "\n",
              "    .colab-df-convert:hover {\n",
              "      background-color: #E2EBFA;\n",
              "      box-shadow: 0px 1px 2px rgba(60, 64, 67, 0.3), 0px 1px 3px 1px rgba(60, 64, 67, 0.15);\n",
              "      fill: #174EA6;\n",
              "    }\n",
              "\n",
              "    .colab-df-buttons div {\n",
              "      margin-bottom: 4px;\n",
              "    }\n",
              "\n",
              "    [theme=dark] .colab-df-convert {\n",
              "      background-color: #3B4455;\n",
              "      fill: #D2E3FC;\n",
              "    }\n",
              "\n",
              "    [theme=dark] .colab-df-convert:hover {\n",
              "      background-color: #434B5C;\n",
              "      box-shadow: 0px 1px 3px 1px rgba(0, 0, 0, 0.15);\n",
              "      filter: drop-shadow(0px 1px 2px rgba(0, 0, 0, 0.3));\n",
              "      fill: #FFFFFF;\n",
              "    }\n",
              "  </style>\n",
              "\n",
              "    <script>\n",
              "      const buttonEl =\n",
              "        document.querySelector('#df-a60709d3-afce-45f7-8c01-0fe2977d5134 button.colab-df-convert');\n",
              "      buttonEl.style.display =\n",
              "        google.colab.kernel.accessAllowed ? 'block' : 'none';\n",
              "\n",
              "      async function convertToInteractive(key) {\n",
              "        const element = document.querySelector('#df-a60709d3-afce-45f7-8c01-0fe2977d5134');\n",
              "        const dataTable =\n",
              "          await google.colab.kernel.invokeFunction('convertToInteractive',\n",
              "                                                    [key], {});\n",
              "        if (!dataTable) return;\n",
              "\n",
              "        const docLinkHtml = 'Like what you see? Visit the ' +\n",
              "          '<a target=\"_blank\" href=https://colab.research.google.com/notebooks/data_table.ipynb>data table notebook</a>'\n",
              "          + ' to learn more about interactive tables.';\n",
              "        element.innerHTML = '';\n",
              "        dataTable['output_type'] = 'display_data';\n",
              "        await google.colab.output.renderOutput(dataTable, element);\n",
              "        const docLink = document.createElement('div');\n",
              "        docLink.innerHTML = docLinkHtml;\n",
              "        element.appendChild(docLink);\n",
              "      }\n",
              "    </script>\n",
              "  </div>\n",
              "\n",
              "\n",
              "<div id=\"df-33d3a706-a368-4cd2-8fa1-44efc8fee66c\">\n",
              "  <button class=\"colab-df-quickchart\" onclick=\"quickchart('df-33d3a706-a368-4cd2-8fa1-44efc8fee66c')\"\n",
              "            title=\"Suggest charts\"\n",
              "            style=\"display:none;\">\n",
              "\n",
              "<svg xmlns=\"http://www.w3.org/2000/svg\" height=\"24px\"viewBox=\"0 0 24 24\"\n",
              "     width=\"24px\">\n",
              "    <g>\n",
              "        <path d=\"M19 3H5c-1.1 0-2 .9-2 2v14c0 1.1.9 2 2 2h14c1.1 0 2-.9 2-2V5c0-1.1-.9-2-2-2zM9 17H7v-7h2v7zm4 0h-2V7h2v10zm4 0h-2v-4h2v4z\"/>\n",
              "    </g>\n",
              "</svg>\n",
              "  </button>\n",
              "\n",
              "<style>\n",
              "  .colab-df-quickchart {\n",
              "      --bg-color: #E8F0FE;\n",
              "      --fill-color: #1967D2;\n",
              "      --hover-bg-color: #E2EBFA;\n",
              "      --hover-fill-color: #174EA6;\n",
              "      --disabled-fill-color: #AAA;\n",
              "      --disabled-bg-color: #DDD;\n",
              "  }\n",
              "\n",
              "  [theme=dark] .colab-df-quickchart {\n",
              "      --bg-color: #3B4455;\n",
              "      --fill-color: #D2E3FC;\n",
              "      --hover-bg-color: #434B5C;\n",
              "      --hover-fill-color: #FFFFFF;\n",
              "      --disabled-bg-color: #3B4455;\n",
              "      --disabled-fill-color: #666;\n",
              "  }\n",
              "\n",
              "  .colab-df-quickchart {\n",
              "    background-color: var(--bg-color);\n",
              "    border: none;\n",
              "    border-radius: 50%;\n",
              "    cursor: pointer;\n",
              "    display: none;\n",
              "    fill: var(--fill-color);\n",
              "    height: 32px;\n",
              "    padding: 0;\n",
              "    width: 32px;\n",
              "  }\n",
              "\n",
              "  .colab-df-quickchart:hover {\n",
              "    background-color: var(--hover-bg-color);\n",
              "    box-shadow: 0 1px 2px rgba(60, 64, 67, 0.3), 0 1px 3px 1px rgba(60, 64, 67, 0.15);\n",
              "    fill: var(--button-hover-fill-color);\n",
              "  }\n",
              "\n",
              "  .colab-df-quickchart-complete:disabled,\n",
              "  .colab-df-quickchart-complete:disabled:hover {\n",
              "    background-color: var(--disabled-bg-color);\n",
              "    fill: var(--disabled-fill-color);\n",
              "    box-shadow: none;\n",
              "  }\n",
              "\n",
              "  .colab-df-spinner {\n",
              "    border: 2px solid var(--fill-color);\n",
              "    border-color: transparent;\n",
              "    border-bottom-color: var(--fill-color);\n",
              "    animation:\n",
              "      spin 1s steps(1) infinite;\n",
              "  }\n",
              "\n",
              "  @keyframes spin {\n",
              "    0% {\n",
              "      border-color: transparent;\n",
              "      border-bottom-color: var(--fill-color);\n",
              "      border-left-color: var(--fill-color);\n",
              "    }\n",
              "    20% {\n",
              "      border-color: transparent;\n",
              "      border-left-color: var(--fill-color);\n",
              "      border-top-color: var(--fill-color);\n",
              "    }\n",
              "    30% {\n",
              "      border-color: transparent;\n",
              "      border-left-color: var(--fill-color);\n",
              "      border-top-color: var(--fill-color);\n",
              "      border-right-color: var(--fill-color);\n",
              "    }\n",
              "    40% {\n",
              "      border-color: transparent;\n",
              "      border-right-color: var(--fill-color);\n",
              "      border-top-color: var(--fill-color);\n",
              "    }\n",
              "    60% {\n",
              "      border-color: transparent;\n",
              "      border-right-color: var(--fill-color);\n",
              "    }\n",
              "    80% {\n",
              "      border-color: transparent;\n",
              "      border-right-color: var(--fill-color);\n",
              "      border-bottom-color: var(--fill-color);\n",
              "    }\n",
              "    90% {\n",
              "      border-color: transparent;\n",
              "      border-bottom-color: var(--fill-color);\n",
              "    }\n",
              "  }\n",
              "</style>\n",
              "\n",
              "  <script>\n",
              "    async function quickchart(key) {\n",
              "      const quickchartButtonEl =\n",
              "        document.querySelector('#' + key + ' button');\n",
              "      quickchartButtonEl.disabled = true;  // To prevent multiple clicks.\n",
              "      quickchartButtonEl.classList.add('colab-df-spinner');\n",
              "      try {\n",
              "        const charts = await google.colab.kernel.invokeFunction(\n",
              "            'suggestCharts', [key], {});\n",
              "      } catch (error) {\n",
              "        console.error('Error during call to suggestCharts:', error);\n",
              "      }\n",
              "      quickchartButtonEl.classList.remove('colab-df-spinner');\n",
              "      quickchartButtonEl.classList.add('colab-df-quickchart-complete');\n",
              "    }\n",
              "    (() => {\n",
              "      let quickchartButtonEl =\n",
              "        document.querySelector('#df-33d3a706-a368-4cd2-8fa1-44efc8fee66c button');\n",
              "      quickchartButtonEl.style.display =\n",
              "        google.colab.kernel.accessAllowed ? 'block' : 'none';\n",
              "    })();\n",
              "  </script>\n",
              "</div>\n",
              "    </div>\n",
              "  </div>\n"
            ]
          },
          "metadata": {},
          "execution_count": 90
        }
      ],
      "source": [
        "df = df.drop(['zip_code' , 'prev_sold_date','status'],axis = 'columns')\n",
        "df.head()"
      ]
    },
    {
      "cell_type": "code",
      "execution_count": 91,
      "id": "313685a6",
      "metadata": {
        "execution": {
          "iopub.execute_input": "2023-05-03T23:55:13.617495Z",
          "iopub.status.busy": "2023-05-03T23:55:13.616881Z",
          "iopub.status.idle": "2023-05-03T23:55:13.629049Z",
          "shell.execute_reply": "2023-05-03T23:55:13.628272Z"
        },
        "papermill": {
          "duration": 0.0263,
          "end_time": "2023-05-03T23:55:13.631249",
          "exception": false,
          "start_time": "2023-05-03T23:55:13.604949",
          "status": "completed"
        },
        "tags": [],
        "colab": {
          "base_uri": "https://localhost:8080/"
        },
        "id": "313685a6",
        "outputId": "546b444c-1fae-4df0-acc6-38928f4dfb3d"
      },
      "outputs": [
        {
          "output_type": "execute_result",
          "data": {
            "text/plain": [
              "array(['Puerto Rico', 'Virgin Islands', 'Massachusetts', 'Connecticut',\n",
              "       'New Hampshire', 'Vermont', 'New Jersey', 'New York',\n",
              "       'South Carolina', 'Tennessee', 'Rhode Island', 'Virginia',\n",
              "       'Wyoming', 'Maine', 'Georgia', 'Pennsylvania', 'West Virginia',\n",
              "       'Delaware'], dtype=object)"
            ]
          },
          "metadata": {},
          "execution_count": 91
        }
      ],
      "source": [
        "df['state'].unique()"
      ]
    },
    {
      "cell_type": "code",
      "execution_count": 92,
      "id": "e907beb2",
      "metadata": {
        "execution": {
          "iopub.execute_input": "2023-05-03T23:55:13.654457Z",
          "iopub.status.busy": "2023-05-03T23:55:13.653837Z",
          "iopub.status.idle": "2023-05-03T23:55:13.883150Z",
          "shell.execute_reply": "2023-05-03T23:55:13.882055Z"
        },
        "papermill": {
          "duration": 0.244011,
          "end_time": "2023-05-03T23:55:13.885807",
          "exception": false,
          "start_time": "2023-05-03T23:55:13.641796",
          "status": "completed"
        },
        "tags": [],
        "id": "e907beb2"
      },
      "outputs": [],
      "source": [
        "from sklearn.preprocessing import LabelEncoder\n",
        "LE = LabelEncoder()\n",
        "df['city'] = LE.fit_transform(df['city'])\n",
        "df['state'] = LE.fit_transform(df['state'])\n"
      ]
    },
    {
      "cell_type": "code",
      "execution_count": 93,
      "id": "88961234",
      "metadata": {
        "execution": {
          "iopub.execute_input": "2023-05-03T23:55:13.910780Z",
          "iopub.status.busy": "2023-05-03T23:55:13.910253Z",
          "iopub.status.idle": "2023-05-03T23:55:13.922179Z",
          "shell.execute_reply": "2023-05-03T23:55:13.920976Z"
        },
        "papermill": {
          "duration": 0.026974,
          "end_time": "2023-05-03T23:55:13.924565",
          "exception": false,
          "start_time": "2023-05-03T23:55:13.897591",
          "status": "completed"
        },
        "tags": [],
        "colab": {
          "base_uri": "https://localhost:8080/"
        },
        "id": "88961234",
        "outputId": "ca584589-b7de-4709-9f36-911d365975bd"
      },
      "outputs": [
        {
          "output_type": "execute_result",
          "data": {
            "text/plain": [
              "0"
            ]
          },
          "metadata": {},
          "execution_count": 93
        }
      ],
      "source": [
        "df['city'].fillna(df['city'].dropna().median(),inplace = True)\n",
        "df['city'].isnull().sum()"
      ]
    },
    {
      "cell_type": "code",
      "source": [
        "df.dropna(inplace=True)"
      ],
      "metadata": {
        "id": "wsEmK5zdg9Tb"
      },
      "id": "wsEmK5zdg9Tb",
      "execution_count": 94,
      "outputs": []
    },
    {
      "cell_type": "code",
      "execution_count": 95,
      "id": "f8debd60",
      "metadata": {
        "execution": {
          "iopub.execute_input": "2023-05-03T23:55:13.949390Z",
          "iopub.status.busy": "2023-05-03T23:55:13.948559Z",
          "iopub.status.idle": "2023-05-03T23:55:14.076814Z",
          "shell.execute_reply": "2023-05-03T23:55:14.075585Z"
        },
        "papermill": {
          "duration": 0.142959,
          "end_time": "2023-05-03T23:55:14.079698",
          "exception": false,
          "start_time": "2023-05-03T23:55:13.936739",
          "status": "completed"
        },
        "tags": [],
        "id": "f8debd60"
      },
      "outputs": [],
      "source": [
        "from sklearn.model_selection import train_test_split\n",
        "X = df.drop('price',axis = 'columns')\n",
        "y = df.price\n",
        "\n",
        "X_train,X_test,y_train,y_test = train_test_split(X,y,test_size = 0.3 , shuffle = True,random_state = 44)"
      ]
    },
    {
      "cell_type": "code",
      "execution_count": 96,
      "id": "2a3f6449",
      "metadata": {
        "execution": {
          "iopub.execute_input": "2023-05-03T23:55:14.103296Z",
          "iopub.status.busy": "2023-05-03T23:55:14.102897Z",
          "iopub.status.idle": "2023-05-03T23:55:15.524482Z",
          "shell.execute_reply": "2023-05-03T23:55:15.523125Z"
        },
        "papermill": {
          "duration": 1.436651,
          "end_time": "2023-05-03T23:55:15.527027",
          "exception": false,
          "start_time": "2023-05-03T23:55:14.090376",
          "status": "completed"
        },
        "tags": [],
        "colab": {
          "base_uri": "https://localhost:8080/"
        },
        "id": "2a3f6449",
        "outputId": "3eafa48f-2fed-4026-880f-d6afb833aa54"
      },
      "outputs": [
        {
          "output_type": "stream",
          "name": "stdout",
          "text": [
            "Score =  83.16 %\n"
          ]
        }
      ],
      "source": [
        "from sklearn.ensemble import RandomForestRegressor\n",
        "Random = RandomForestRegressor(n_estimators = 10 , max_depth = 10 , min_samples_split = 2)\n",
        "Random.fit(X_train,y_train)\n",
        "y_pred = Random.predict(X_test)\n",
        "Score_Random = Random.score(X_test,y_test)\n",
        "print('Score = ',np.round(Score_Random*100,2),'%')"
      ]
    },
    {
      "cell_type": "code",
      "source": [
        "\n",
        "from sklearn.metrics import mean_squared_error, mean_absolute_error, r2_score\n",
        "# Calculate evaluation metrics\n",
        "mse = mean_squared_error(y_test, y_pred)\n",
        "rmse = mean_squared_error(y_test, y_pred, squared=False)\n",
        "mae = mean_absolute_error(y_test, y_pred)\n",
        "r2 = r2_score(y_test, y_pred)\n",
        "\n",
        "print(\"Mean Squared Error for RandomForestRegressor:\", mse)\n",
        "print(\"Root Mean Squared Error for RandomForestRegressor:\", rmse)\n",
        "print(\"Mean Absolute Error for RandomForestRegressor:\", mae)\n",
        "print(\"R-squared for RandomForestRegressor:\", r2)"
      ],
      "metadata": {
        "colab": {
          "base_uri": "https://localhost:8080/"
        },
        "id": "4LeZks9Nn9GW",
        "outputId": "2991f166-b920-49b6-b735-8336d8682521"
      },
      "id": "4LeZks9Nn9GW",
      "execution_count": 97,
      "outputs": [
        {
          "output_type": "stream",
          "name": "stdout",
          "text": [
            "Mean Squared Error for RandomForestRegressor: 1083088642924.2246\n",
            "Root Mean Squared Error for RandomForestRegressor: 1040715.4476244814\n",
            "Mean Absolute Error for RandomForestRegressor: 333433.58690772584\n",
            "R-squared for RandomForestRegressor: 0.8315795804744176\n"
          ]
        }
      ]
    },
    {
      "cell_type": "code",
      "execution_count": 98,
      "id": "99fcf2bd",
      "metadata": {
        "execution": {
          "iopub.execute_input": "2023-05-03T23:55:15.550345Z",
          "iopub.status.busy": "2023-05-03T23:55:15.549949Z",
          "iopub.status.idle": "2023-05-03T23:55:24.865446Z",
          "shell.execute_reply": "2023-05-03T23:55:24.864171Z"
        },
        "papermill": {
          "duration": 9.330374,
          "end_time": "2023-05-03T23:55:24.868292",
          "exception": false,
          "start_time": "2023-05-03T23:55:15.537918",
          "status": "completed"
        },
        "tags": [],
        "colab": {
          "base_uri": "https://localhost:8080/"
        },
        "id": "99fcf2bd",
        "outputId": "53cc2f19-363c-4bad-b117-326e78ca6125"
      },
      "outputs": [
        {
          "output_type": "stream",
          "name": "stdout",
          "text": [
            "Score =  82.88 %\n"
          ]
        }
      ],
      "source": [
        "from sklearn.ensemble import GradientBoostingRegressor\n",
        "GBR = GradientBoostingRegressor(learning_rate = 0.5 , n_estimators = 180)\n",
        "GBR.fit(X_train,y_train)\n",
        "y_pred = GBR.predict(X_test)\n",
        "Score_GBR = GBR.score(X_test,y_test)\n",
        "print('Score = ',np.round(Score_GBR*100,2),'%')"
      ]
    },
    {
      "cell_type": "code",
      "source": [
        "\n",
        "from sklearn.metrics import mean_squared_error, mean_absolute_error, r2_score\n",
        "# Calculate evaluation metrics\n",
        "mse = mean_squared_error(y_test, y_pred)\n",
        "rmse = mean_squared_error(y_test, y_pred, squared=False)\n",
        "mae = mean_absolute_error(y_test, y_pred)\n",
        "r2 = r2_score(y_test, y_pred)\n",
        "\n",
        "print(\"Mean Squared Error GradientBoostingRegressor:\", mse)\n",
        "print(\"Root Mean Squared Error GradientBoostingRegressor:\", rmse)\n",
        "print(\"Mean Absolute Error GradientBoostingRegressor:\", mae)\n",
        "print(\"R-squared GradientBoostingRegressor:\", r2)"
      ],
      "metadata": {
        "colab": {
          "base_uri": "https://localhost:8080/"
        },
        "id": "VZzOVireoYrU",
        "outputId": "1118435c-074c-4e67-befc-dc732f377632"
      },
      "id": "VZzOVireoYrU",
      "execution_count": 99,
      "outputs": [
        {
          "output_type": "stream",
          "name": "stdout",
          "text": [
            "Mean Squared Error GradientBoostingRegressor: 1100644984489.718\n",
            "Root Mean Squared Error GradientBoostingRegressor: 1049116.2874008382\n",
            "Mean Absolute Error GradientBoostingRegressor: 367000.4595710137\n",
            "R-squared GradientBoostingRegressor: 0.8288495671637697\n"
          ]
        }
      ]
    },
    {
      "cell_type": "code",
      "execution_count": 100,
      "id": "7a013f98",
      "metadata": {
        "execution": {
          "iopub.execute_input": "2023-05-03T23:55:24.892402Z",
          "iopub.status.busy": "2023-05-03T23:55:24.891997Z",
          "iopub.status.idle": "2023-05-03T23:55:25.876631Z",
          "shell.execute_reply": "2023-05-03T23:55:25.875332Z"
        },
        "papermill": {
          "duration": 0.999617,
          "end_time": "2023-05-03T23:55:25.878955",
          "exception": false,
          "start_time": "2023-05-03T23:55:24.879338",
          "status": "completed"
        },
        "tags": [],
        "colab": {
          "base_uri": "https://localhost:8080/"
        },
        "id": "7a013f98",
        "outputId": "1b9eb99b-9851-46dd-c593-843477612211"
      },
      "outputs": [
        {
          "output_type": "stream",
          "name": "stdout",
          "text": [
            "Score =  94.57 %\n"
          ]
        }
      ],
      "source": [
        "from sklearn.neighbors import KNeighborsRegressor\n",
        "KNN = KNeighborsRegressor(n_neighbors = 11 , weights = 'distance' , algorithm = 'auto')\n",
        "KNN.fit(X_train,y_train)\n",
        "y_pred = KNN.predict(X_test)\n",
        "Score_KNN = KNN.score(X_test,y_test)\n",
        "print('Score = ',np.round(Score_KNN*100,2),'%')"
      ]
    },
    {
      "cell_type": "code",
      "source": [
        "\n",
        "from sklearn.metrics import mean_squared_error, mean_absolute_error, r2_score\n",
        "# Calculate evaluation metrics\n",
        "mse = mean_squared_error(y_test, y_pred)\n",
        "rmse = mean_squared_error(y_test, y_pred, squared=False)\n",
        "mae = mean_absolute_error(y_test, y_pred)\n",
        "r2 = r2_score(y_test, y_pred)\n",
        "\n",
        "print(\"Mean Squared Error KNeighbors Regressor:\", mse)\n",
        "print(\"Root Mean Squared Error KNeighbors Regressor:\", rmse)\n",
        "print(\"Mean Absolute Error KNeighbors  Regressor:\", mae)\n",
        "print(\"R-squared KNeighbors Regressor:\", r2)"
      ],
      "metadata": {
        "colab": {
          "base_uri": "https://localhost:8080/"
        },
        "id": "8qO64GQvobQB",
        "outputId": "1c2ba275-48c5-4f50-9c2f-a38f73159a66"
      },
      "id": "8qO64GQvobQB",
      "execution_count": 101,
      "outputs": [
        {
          "output_type": "stream",
          "name": "stdout",
          "text": [
            "Mean Squared Error KNeighbors Regressor: 348903900273.06824\n",
            "Root Mean Squared Error KNeighbors Regressor: 590680.8785402387\n",
            "Mean Absolute Error KNeighbors  Regressor: 62234.053225323856\n",
            "R-squared KNeighbors Regressor: 0.9457453998414669\n"
          ]
        }
      ]
    },
    {
      "cell_type": "code",
      "execution_count": 102,
      "id": "3884c44e",
      "metadata": {
        "execution": {
          "iopub.execute_input": "2023-05-03T23:55:25.902130Z",
          "iopub.status.busy": "2023-05-03T23:55:25.901738Z",
          "iopub.status.idle": "2023-05-03T23:55:26.135697Z",
          "shell.execute_reply": "2023-05-03T23:55:26.134280Z"
        },
        "papermill": {
          "duration": 0.248514,
          "end_time": "2023-05-03T23:55:26.138282",
          "exception": false,
          "start_time": "2023-05-03T23:55:25.889768",
          "status": "completed"
        },
        "tags": [],
        "colab": {
          "base_uri": "https://localhost:8080/"
        },
        "id": "3884c44e",
        "outputId": "65d8a863-ff6f-47b7-9814-1812bd229d05"
      },
      "outputs": [
        {
          "output_type": "stream",
          "name": "stdout",
          "text": [
            "Score =  94.07 %\n"
          ]
        }
      ],
      "source": [
        "from sklearn.tree import DecisionTreeRegressor\n",
        "Decision = DecisionTreeRegressor(max_depth = 19 , min_samples_split = 2)\n",
        "Decision.fit(X_train,y_train)\n",
        "y_pred = Decision.predict(X_test)\n",
        "Score_Decision = Decision.score(X_test,y_test)\n",
        "print('Score = ',np.round(Score_Decision*100,2),'%')"
      ]
    },
    {
      "cell_type": "code",
      "source": [
        "\n",
        "from sklearn.metrics import mean_squared_error, mean_absolute_error, r2_score\n",
        "# Calculate evaluation metrics\n",
        "mse = mean_squared_error(y_test, y_pred)\n",
        "rmse = mean_squared_error(y_test, y_pred, squared=False)\n",
        "mae = mean_absolute_error(y_test, y_pred)\n",
        "r2 = r2_score(y_test, y_pred)\n",
        "\n",
        "print(\"Mean Squared Error DecisionTreeRegressor:\", mse)\n",
        "print(\"Root Mean Squared Error DecisionTreeRegressor:\", rmse)\n",
        "print(\"Mean Absolute Error DecisionTreeRegressor:\", mae)\n",
        "print(\"R-squared DecisionTreeRegressor:\", r2)"
      ],
      "metadata": {
        "colab": {
          "base_uri": "https://localhost:8080/"
        },
        "id": "j7ewfXR9ocmr",
        "outputId": "e8a25f83-308d-43c8-972f-82be7b7a2564"
      },
      "id": "j7ewfXR9ocmr",
      "execution_count": 103,
      "outputs": [
        {
          "output_type": "stream",
          "name": "stdout",
          "text": [
            "Mean Squared Error DecisionTreeRegressor: 381571363326.8594\n",
            "Root Mean Squared Error DecisionTreeRegressor: 617714.6293612119\n",
            "Mean Absolute Error DecisionTreeRegressor: 164628.57738542728\n",
            "R-squared DecisionTreeRegressor: 0.9406656052481993\n"
          ]
        }
      ]
    },
    {
      "cell_type": "code",
      "execution_count": 104,
      "id": "81539283",
      "metadata": {
        "execution": {
          "iopub.execute_input": "2023-05-03T23:55:26.161905Z",
          "iopub.status.busy": "2023-05-03T23:55:26.161474Z",
          "iopub.status.idle": "2023-05-03T23:55:26.173327Z",
          "shell.execute_reply": "2023-05-03T23:55:26.172232Z"
        },
        "papermill": {
          "duration": 0.026351,
          "end_time": "2023-05-03T23:55:26.175591",
          "exception": false,
          "start_time": "2023-05-03T23:55:26.149240",
          "status": "completed"
        },
        "tags": [],
        "colab": {
          "base_uri": "https://localhost:8080/",
          "height": 225
        },
        "id": "81539283",
        "outputId": "a79460f6-b496-4f0c-eb9e-12031f9426f6"
      },
      "outputs": [
        {
          "output_type": "execute_result",
          "data": {
            "text/plain": [
              "                Name     Score\n",
              "2                KNN  0.945745\n",
              "3      Decision Tree  0.940666\n",
              "0      Random Forest  0.831580\n",
              "1  Gradient Boosting  0.828850"
            ],
            "text/html": [
              "\n",
              "  <div id=\"df-980219bf-7cd2-49e9-b558-c7eb29d4adfb\" class=\"colab-df-container\">\n",
              "    <div>\n",
              "<style scoped>\n",
              "    .dataframe tbody tr th:only-of-type {\n",
              "        vertical-align: middle;\n",
              "    }\n",
              "\n",
              "    .dataframe tbody tr th {\n",
              "        vertical-align: top;\n",
              "    }\n",
              "\n",
              "    .dataframe thead th {\n",
              "        text-align: right;\n",
              "    }\n",
              "</style>\n",
              "<table border=\"1\" class=\"dataframe\">\n",
              "  <thead>\n",
              "    <tr style=\"text-align: right;\">\n",
              "      <th></th>\n",
              "      <th>Name</th>\n",
              "      <th>Score</th>\n",
              "    </tr>\n",
              "  </thead>\n",
              "  <tbody>\n",
              "    <tr>\n",
              "      <th>2</th>\n",
              "      <td>KNN</td>\n",
              "      <td>0.945745</td>\n",
              "    </tr>\n",
              "    <tr>\n",
              "      <th>3</th>\n",
              "      <td>Decision Tree</td>\n",
              "      <td>0.940666</td>\n",
              "    </tr>\n",
              "    <tr>\n",
              "      <th>0</th>\n",
              "      <td>Random Forest</td>\n",
              "      <td>0.831580</td>\n",
              "    </tr>\n",
              "    <tr>\n",
              "      <th>1</th>\n",
              "      <td>Gradient Boosting</td>\n",
              "      <td>0.828850</td>\n",
              "    </tr>\n",
              "  </tbody>\n",
              "</table>\n",
              "</div>\n",
              "    <div class=\"colab-df-buttons\">\n",
              "\n",
              "  <div class=\"colab-df-container\">\n",
              "    <button class=\"colab-df-convert\" onclick=\"convertToInteractive('df-980219bf-7cd2-49e9-b558-c7eb29d4adfb')\"\n",
              "            title=\"Convert this dataframe to an interactive table.\"\n",
              "            style=\"display:none;\">\n",
              "\n",
              "  <svg xmlns=\"http://www.w3.org/2000/svg\" height=\"24px\" viewBox=\"0 -960 960 960\">\n",
              "    <path d=\"M120-120v-720h720v720H120Zm60-500h600v-160H180v160Zm220 220h160v-160H400v160Zm0 220h160v-160H400v160ZM180-400h160v-160H180v160Zm440 0h160v-160H620v160ZM180-180h160v-160H180v160Zm440 0h160v-160H620v160Z\"/>\n",
              "  </svg>\n",
              "    </button>\n",
              "\n",
              "  <style>\n",
              "    .colab-df-container {\n",
              "      display:flex;\n",
              "      gap: 12px;\n",
              "    }\n",
              "\n",
              "    .colab-df-convert {\n",
              "      background-color: #E8F0FE;\n",
              "      border: none;\n",
              "      border-radius: 50%;\n",
              "      cursor: pointer;\n",
              "      display: none;\n",
              "      fill: #1967D2;\n",
              "      height: 32px;\n",
              "      padding: 0 0 0 0;\n",
              "      width: 32px;\n",
              "    }\n",
              "\n",
              "    .colab-df-convert:hover {\n",
              "      background-color: #E2EBFA;\n",
              "      box-shadow: 0px 1px 2px rgba(60, 64, 67, 0.3), 0px 1px 3px 1px rgba(60, 64, 67, 0.15);\n",
              "      fill: #174EA6;\n",
              "    }\n",
              "\n",
              "    .colab-df-buttons div {\n",
              "      margin-bottom: 4px;\n",
              "    }\n",
              "\n",
              "    [theme=dark] .colab-df-convert {\n",
              "      background-color: #3B4455;\n",
              "      fill: #D2E3FC;\n",
              "    }\n",
              "\n",
              "    [theme=dark] .colab-df-convert:hover {\n",
              "      background-color: #434B5C;\n",
              "      box-shadow: 0px 1px 3px 1px rgba(0, 0, 0, 0.15);\n",
              "      filter: drop-shadow(0px 1px 2px rgba(0, 0, 0, 0.3));\n",
              "      fill: #FFFFFF;\n",
              "    }\n",
              "  </style>\n",
              "\n",
              "    <script>\n",
              "      const buttonEl =\n",
              "        document.querySelector('#df-980219bf-7cd2-49e9-b558-c7eb29d4adfb button.colab-df-convert');\n",
              "      buttonEl.style.display =\n",
              "        google.colab.kernel.accessAllowed ? 'block' : 'none';\n",
              "\n",
              "      async function convertToInteractive(key) {\n",
              "        const element = document.querySelector('#df-980219bf-7cd2-49e9-b558-c7eb29d4adfb');\n",
              "        const dataTable =\n",
              "          await google.colab.kernel.invokeFunction('convertToInteractive',\n",
              "                                                    [key], {});\n",
              "        if (!dataTable) return;\n",
              "\n",
              "        const docLinkHtml = 'Like what you see? Visit the ' +\n",
              "          '<a target=\"_blank\" href=https://colab.research.google.com/notebooks/data_table.ipynb>data table notebook</a>'\n",
              "          + ' to learn more about interactive tables.';\n",
              "        element.innerHTML = '';\n",
              "        dataTable['output_type'] = 'display_data';\n",
              "        await google.colab.output.renderOutput(dataTable, element);\n",
              "        const docLink = document.createElement('div');\n",
              "        docLink.innerHTML = docLinkHtml;\n",
              "        element.appendChild(docLink);\n",
              "      }\n",
              "    </script>\n",
              "  </div>\n",
              "\n",
              "\n",
              "<div id=\"df-1c9bf91e-820f-4949-92d9-fe2c2e23f1c9\">\n",
              "  <button class=\"colab-df-quickchart\" onclick=\"quickchart('df-1c9bf91e-820f-4949-92d9-fe2c2e23f1c9')\"\n",
              "            title=\"Suggest charts\"\n",
              "            style=\"display:none;\">\n",
              "\n",
              "<svg xmlns=\"http://www.w3.org/2000/svg\" height=\"24px\"viewBox=\"0 0 24 24\"\n",
              "     width=\"24px\">\n",
              "    <g>\n",
              "        <path d=\"M19 3H5c-1.1 0-2 .9-2 2v14c0 1.1.9 2 2 2h14c1.1 0 2-.9 2-2V5c0-1.1-.9-2-2-2zM9 17H7v-7h2v7zm4 0h-2V7h2v10zm4 0h-2v-4h2v4z\"/>\n",
              "    </g>\n",
              "</svg>\n",
              "  </button>\n",
              "\n",
              "<style>\n",
              "  .colab-df-quickchart {\n",
              "      --bg-color: #E8F0FE;\n",
              "      --fill-color: #1967D2;\n",
              "      --hover-bg-color: #E2EBFA;\n",
              "      --hover-fill-color: #174EA6;\n",
              "      --disabled-fill-color: #AAA;\n",
              "      --disabled-bg-color: #DDD;\n",
              "  }\n",
              "\n",
              "  [theme=dark] .colab-df-quickchart {\n",
              "      --bg-color: #3B4455;\n",
              "      --fill-color: #D2E3FC;\n",
              "      --hover-bg-color: #434B5C;\n",
              "      --hover-fill-color: #FFFFFF;\n",
              "      --disabled-bg-color: #3B4455;\n",
              "      --disabled-fill-color: #666;\n",
              "  }\n",
              "\n",
              "  .colab-df-quickchart {\n",
              "    background-color: var(--bg-color);\n",
              "    border: none;\n",
              "    border-radius: 50%;\n",
              "    cursor: pointer;\n",
              "    display: none;\n",
              "    fill: var(--fill-color);\n",
              "    height: 32px;\n",
              "    padding: 0;\n",
              "    width: 32px;\n",
              "  }\n",
              "\n",
              "  .colab-df-quickchart:hover {\n",
              "    background-color: var(--hover-bg-color);\n",
              "    box-shadow: 0 1px 2px rgba(60, 64, 67, 0.3), 0 1px 3px 1px rgba(60, 64, 67, 0.15);\n",
              "    fill: var(--button-hover-fill-color);\n",
              "  }\n",
              "\n",
              "  .colab-df-quickchart-complete:disabled,\n",
              "  .colab-df-quickchart-complete:disabled:hover {\n",
              "    background-color: var(--disabled-bg-color);\n",
              "    fill: var(--disabled-fill-color);\n",
              "    box-shadow: none;\n",
              "  }\n",
              "\n",
              "  .colab-df-spinner {\n",
              "    border: 2px solid var(--fill-color);\n",
              "    border-color: transparent;\n",
              "    border-bottom-color: var(--fill-color);\n",
              "    animation:\n",
              "      spin 1s steps(1) infinite;\n",
              "  }\n",
              "\n",
              "  @keyframes spin {\n",
              "    0% {\n",
              "      border-color: transparent;\n",
              "      border-bottom-color: var(--fill-color);\n",
              "      border-left-color: var(--fill-color);\n",
              "    }\n",
              "    20% {\n",
              "      border-color: transparent;\n",
              "      border-left-color: var(--fill-color);\n",
              "      border-top-color: var(--fill-color);\n",
              "    }\n",
              "    30% {\n",
              "      border-color: transparent;\n",
              "      border-left-color: var(--fill-color);\n",
              "      border-top-color: var(--fill-color);\n",
              "      border-right-color: var(--fill-color);\n",
              "    }\n",
              "    40% {\n",
              "      border-color: transparent;\n",
              "      border-right-color: var(--fill-color);\n",
              "      border-top-color: var(--fill-color);\n",
              "    }\n",
              "    60% {\n",
              "      border-color: transparent;\n",
              "      border-right-color: var(--fill-color);\n",
              "    }\n",
              "    80% {\n",
              "      border-color: transparent;\n",
              "      border-right-color: var(--fill-color);\n",
              "      border-bottom-color: var(--fill-color);\n",
              "    }\n",
              "    90% {\n",
              "      border-color: transparent;\n",
              "      border-bottom-color: var(--fill-color);\n",
              "    }\n",
              "  }\n",
              "</style>\n",
              "\n",
              "  <script>\n",
              "    async function quickchart(key) {\n",
              "      const quickchartButtonEl =\n",
              "        document.querySelector('#' + key + ' button');\n",
              "      quickchartButtonEl.disabled = true;  // To prevent multiple clicks.\n",
              "      quickchartButtonEl.classList.add('colab-df-spinner');\n",
              "      try {\n",
              "        const charts = await google.colab.kernel.invokeFunction(\n",
              "            'suggestCharts', [key], {});\n",
              "      } catch (error) {\n",
              "        console.error('Error during call to suggestCharts:', error);\n",
              "      }\n",
              "      quickchartButtonEl.classList.remove('colab-df-spinner');\n",
              "      quickchartButtonEl.classList.add('colab-df-quickchart-complete');\n",
              "    }\n",
              "    (() => {\n",
              "      let quickchartButtonEl =\n",
              "        document.querySelector('#df-1c9bf91e-820f-4949-92d9-fe2c2e23f1c9 button');\n",
              "      quickchartButtonEl.style.display =\n",
              "        google.colab.kernel.accessAllowed ? 'block' : 'none';\n",
              "    })();\n",
              "  </script>\n",
              "</div>\n",
              "    </div>\n",
              "  </div>\n"
            ]
          },
          "metadata": {},
          "execution_count": 104
        }
      ],
      "source": [
        "Algorithms = pd.DataFrame({'Name':['Random Forest' , 'Gradient Boosting' , 'KNN' , 'Decision Tree'],\n",
        "                          'Score':[Score_Random , Score_GBR , Score_KNN , Score_Decision]})\n",
        "Algorithms.sort_values(by = 'Score' , ascending = False)"
      ]
    }
  ],
  "metadata": {
    "kernelspec": {
      "display_name": "Python 3",
      "language": "python",
      "name": "python3"
    },
    "language_info": {
      "codemirror_mode": {
        "name": "ipython",
        "version": 3
      },
      "file_extension": ".py",
      "mimetype": "text/x-python",
      "name": "python",
      "nbconvert_exporter": "python",
      "pygments_lexer": "ipython3",
      "version": "3.10.10"
    },
    "papermill": {
      "default_parameters": {},
      "duration": 28.685588,
      "end_time": "2023-05-03T23:55:27.231196",
      "environment_variables": {},
      "exception": null,
      "input_path": "__notebook__.ipynb",
      "output_path": "__notebook__.ipynb",
      "parameters": {},
      "start_time": "2023-05-03T23:54:58.545608",
      "version": "2.4.0"
    },
    "colab": {
      "provenance": [],
      "include_colab_link": true
    }
  },
  "nbformat": 4,
  "nbformat_minor": 5
}